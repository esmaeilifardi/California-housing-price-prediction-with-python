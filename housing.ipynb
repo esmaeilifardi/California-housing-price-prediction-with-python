{
  "nbformat": 4,
  "nbformat_minor": 0,
  "metadata": {
    "colab": {
      "provenance": [],
      "collapsed_sections": [],
      "authorship_tag": "ABX9TyMcWZolk5Ia6401kruw9080",
      "include_colab_link": true
    },
    "kernelspec": {
      "name": "python3",
      "display_name": "Python 3"
    },
    "language_info": {
      "name": "python"
    }
  },
  "cells": [
    {
      "cell_type": "markdown",
      "metadata": {
        "id": "view-in-github",
        "colab_type": "text"
      },
      "source": [
        "<a href=\"https://colab.research.google.com/github/esmaeilifardi/California-housing-price-prediction-with-python/blob/dev/housing.ipynb\" target=\"_parent\"><img src=\"https://colab.research.google.com/assets/colab-badge.svg\" alt=\"Open In Colab\"/></a>"
      ]
    },
    {
      "cell_type": "code",
      "execution_count": 8,
      "metadata": {
        "id": "oLXTzaepYD3Y"
      },
      "outputs": [],
      "source": [
        "import numpy as np\n",
        "import pandas as pd\n",
        "import matplotlib.pyplot as plt\n",
        "from pandas.plotting import scatter_matrix\n",
        "import seaborn as sns\n",
        "from sklearn.model_selection import train_test_split\n",
        "from sklearn.impute import SimpleImputer\n",
        "from sklearn.preprocessing import StandardScaler, OneHotEncoder, LabelEncoder\n",
        "from sklearn.ensemble import RandomForestRegressor\n",
        "from sklearn.model_selection import GridSearchCV\n",
        "from sklearn.metrics import mean_squared_error"
      ]
    },
    {
      "cell_type": "code",
      "source": [
        "df = pd.read_csv(\"housing.csv\")\n",
        "df"
      ],
      "metadata": {
        "id": "WHJXmvAFYM8K"
      },
      "execution_count": null,
      "outputs": []
    },
    {
      "cell_type": "code",
      "source": [
        "df.shape"
      ],
      "metadata": {
        "id": "-q6J4MaUvB59"
      },
      "execution_count": null,
      "outputs": []
    },
    {
      "cell_type": "code",
      "source": [
        "df.columns"
      ],
      "metadata": {
        "id": "To3-kDD8vIO-"
      },
      "execution_count": null,
      "outputs": []
    },
    {
      "cell_type": "code",
      "source": [
        "df.info()"
      ],
      "metadata": {
        "id": "L8_SI4DzvXVS"
      },
      "execution_count": null,
      "outputs": []
    },
    {
      "cell_type": "code",
      "source": [
        "df.isnull().sum()"
      ],
      "metadata": {
        "id": "dB_kySORvZ5O"
      },
      "execution_count": null,
      "outputs": []
    },
    {
      "cell_type": "code",
      "source": [
        "df.describe()"
      ],
      "metadata": {
        "id": "tV-s6vknvld7"
      },
      "execution_count": null,
      "outputs": []
    },
    {
      "cell_type": "markdown",
      "source": [
        "**visualization**"
      ],
      "metadata": {
        "id": "OwnnCsd-6dmO"
      }
    },
    {
      "cell_type": "code",
      "source": [
        "#df.plot(kind='scatter', x='longitude', y='latitude', figsize=(10, 10), alpha=0.2, s=df['population']/25, label='population',\n",
        " #c=df['median_house_value'] , cmap=plt.get_cmap('jet') ) "
      ],
      "metadata": {
        "id": "v_61jWRgw8-E"
      },
      "execution_count": 15,
      "outputs": []
    },
    {
      "cell_type": "code",
      "source": [
        "df.plot.scatter(x='longitude', y='latitude', figsize=(15, 10), alpha=0.2, s=df['population']/25, label='population',\n",
        " c=df['median_house_value'] , cmap=plt.get_cmap('jet') ) \n",
        "plt.show()"
      ],
      "metadata": {
        "id": "2fde6rvEye-a"
      },
      "execution_count": null,
      "outputs": []
    },
    {
      "cell_type": "code",
      "source": [
        "df.plot.scatter(x = 'median_income', y = 'median_house_value', figsize = (15, 10))"
      ],
      "metadata": {
        "id": "mpN8981L0jhi"
      },
      "execution_count": null,
      "outputs": []
    },
    {
      "cell_type": "code",
      "source": [
        "scatter_matrix(df, figsize=(20, 15)) \n",
        "plt.show()"
      ],
      "metadata": {
        "id": "G2oolzRnztCX"
      },
      "execution_count": null,
      "outputs": []
    },
    {
      "cell_type": "code",
      "source": [
        "corr_matrix = df.corr()\n",
        "corr_matrix"
      ],
      "metadata": {
        "id": "yAIGBT5uz5rx"
      },
      "execution_count": null,
      "outputs": []
    },
    {
      "cell_type": "code",
      "source": [
        "print( corr_matrix['median_house_value'].sort_values(ascending=False) ) "
      ],
      "metadata": {
        "id": "baCI1sLR2Kvb"
      },
      "execution_count": null,
      "outputs": []
    },
    {
      "cell_type": "code",
      "source": [
        "sns.heatmap(corr_matrix)\n",
        "plt.show()"
      ],
      "metadata": {
        "id": "JXNy3TYS3Dva"
      },
      "execution_count": null,
      "outputs": []
    },
    {
      "cell_type": "code",
      "source": [
        "#====================================================(prepare data)=================================================="
      ],
      "metadata": {
        "id": "cpLWuTD32CqQ"
      },
      "execution_count": 22,
      "outputs": []
    },
    {
      "cell_type": "code",
      "source": [
        "df_label = df['median_house_value'].copy()"
      ],
      "metadata": {
        "id": "OlNZkAWC4N2G"
      },
      "execution_count": 23,
      "outputs": []
    },
    {
      "cell_type": "code",
      "source": [
        "df = df.drop('median_house_value', axis = 1)"
      ],
      "metadata": {
        "id": "obfnEzbC66jG"
      },
      "execution_count": 24,
      "outputs": []
    },
    {
      "cell_type": "code",
      "source": [
        "df_cat = df['ocean_proximity'].copy()"
      ],
      "metadata": {
        "id": "Oym6LnqU98eP"
      },
      "execution_count": 25,
      "outputs": []
    },
    {
      "cell_type": "code",
      "source": [
        "df_num = df.drop('ocean_proximity', axis =1)"
      ],
      "metadata": {
        "id": "VH9IJT8J9K5h"
      },
      "execution_count": 26,
      "outputs": []
    },
    {
      "cell_type": "markdown",
      "source": [
        "**Missing Values**"
      ],
      "metadata": {
        "id": "WzX5uGtFCG-y"
      }
    },
    {
      "cell_type": "markdown",
      "source": [
        "**Method A)**"
      ],
      "metadata": {
        "id": "CgVV3LSvCMXd"
      }
    },
    {
      "cell_type": "code",
      "source": [
        "#df_num.drop('total_bedrooms', axis = 1)                 #B  hazfe kole sootoon\n",
        "#df_num = df_num.dropna(subset = ['total_bedrooms'])     #A  hazfe khali ha\n",
        "#median = df_num['total_bedrooms'].median()              #C  mianeh\n",
        "#df_num['total_bedrooms'].fillna(median)"
      ],
      "metadata": {
        "id": "byjx5kwV9i1z"
      },
      "execution_count": 27,
      "outputs": []
    },
    {
      "cell_type": "markdown",
      "source": [
        "**Method B)**"
      ],
      "metadata": {
        "id": "DXmeWIZICP69"
      }
    },
    {
      "cell_type": "code",
      "source": [
        "imputer = SimpleImputer(missing_values= np.nan, strategy= 'median' )\n",
        "X = imputer.fit_transform(df_num)\n",
        "df_num_impute_tr = pd.DataFrame(X, columns = df_num.columns)\n",
        "\n"
      ],
      "metadata": {
        "id": "WX-d3BX-CS3_"
      },
      "execution_count": 28,
      "outputs": []
    },
    {
      "cell_type": "code",
      "source": [
        "df_num_impute_tr.isnull().sum()"
      ],
      "metadata": {
        "id": "HRepExm4E42M"
      },
      "execution_count": null,
      "outputs": []
    },
    {
      "cell_type": "code",
      "source": [
        "df_num_impute_tr.columns"
      ],
      "metadata": {
        "id": "hWd7pPZ2FbPm"
      },
      "execution_count": null,
      "outputs": []
    },
    {
      "cell_type": "markdown",
      "source": [
        "***feature scaling ***"
      ],
      "metadata": {
        "id": "_to-Qz0yF_ab"
      }
    },
    {
      "cell_type": "markdown",
      "source": [
        "**normalized, standard, minmax, robust**\n"
      ],
      "metadata": {
        "id": "U2y1vbewQUW8"
      }
    },
    {
      "cell_type": "code",
      "source": [
        "feature_scal = StandardScaler()\n",
        "data_num_scaled_tr = feature_scal.fit_transform(df_num_impute_tr)"
      ],
      "metadata": {
        "id": "Vdg5_GrBFxKw"
      },
      "execution_count": 31,
      "outputs": []
    },
    {
      "cell_type": "code",
      "source": [
        "data_num_scaled_tr = pd.DataFrame(data_num_scaled_tr, columns = df_num_impute_tr.columns)"
      ],
      "metadata": {
        "id": "Ln_B3rgKGk_4"
      },
      "execution_count": 32,
      "outputs": []
    },
    {
      "cell_type": "markdown",
      "source": [
        "**label encoding**"
      ],
      "metadata": {
        "id": "u3LEj25kHjK8"
      }
    },
    {
      "cell_type": "code",
      "source": [
        "#encoder = LabelEncoder()\n",
        "#data_cat_encoded = encoder.fit_transform(df_cat)\n",
        "#data_cat_encoded = pd.DataFrame(data_cat_encoded, columns = df_cat.columns)"
      ],
      "metadata": {
        "id": "xTbTSZOvH43E"
      },
      "execution_count": 33,
      "outputs": []
    },
    {
      "cell_type": "markdown",
      "source": [
        "**one hot encoding**"
      ],
      "metadata": {
        "id": "G20-1V_jJegt"
      }
    },
    {
      "cell_type": "code",
      "source": [
        "encoder_1hot = OneHotEncoder(sparse= False) # آپشن اسپارس برای حالتی است که داده های نال را در نظر نگیرد\n",
        "df_cat_1hot = np.array(df_cat).reshape((len(df_cat), 1))\n",
        "df_cat_1hot = encoder_1hot.fit_transform(df_cat_1hot)\n",
        "df_cat_1hot = pd.DataFrame(df_cat_1hot)\n",
        "df_cat_1hot.columns = encoder_1hot.get_feature_names(['prox'])\n",
        "df_cat_1hot"
      ],
      "metadata": {
        "id": "SFJGKhseJhMS"
      },
      "execution_count": null,
      "outputs": []
    },
    {
      "cell_type": "code",
      "source": [
        "final = pd.concat( [data_num_scaled_tr, df_cat_1hot], axis =1 ) # کوتیشن ندارد"
      ],
      "metadata": {
        "id": "aOyIegDQKO81"
      },
      "execution_count": 35,
      "outputs": []
    },
    {
      "cell_type": "code",
      "source": [
        "final"
      ],
      "metadata": {
        "id": "LOU7WjNX4bfz"
      },
      "execution_count": null,
      "outputs": []
    },
    {
      "cell_type": "markdown",
      "source": [
        "**split data**"
      ],
      "metadata": {
        "id": "ZT0psul-RA_a"
      }
    },
    {
      "cell_type": "code",
      "source": [
        "X_train, X_test, y_train, y_test = train_test_split(final, df_label, test_size= 0.2, random_state= 11)"
      ],
      "metadata": {
        "id": "W1EvbpL_PRaW"
      },
      "execution_count": 37,
      "outputs": []
    },
    {
      "cell_type": "markdown",
      "source": [
        "**Model** **Selection**"
      ],
      "metadata": {
        "id": "s6Zc5cxp5DOx"
      }
    },
    {
      "cell_type": "code",
      "source": [
        "forest_reg = RandomForestRegressor()"
      ],
      "metadata": {
        "id": "Lu87sSVk5HCC"
      },
      "execution_count": 38,
      "outputs": []
    },
    {
      "cell_type": "code",
      "source": [
        "param_grid = [ {'n_estimators': [3, 4, 6, 10, 30], 'max_features': [2, 6, 8, 15] } ]\n",
        "grid_search = GridSearchCV(forest_reg, param_grid, cv= 5, scoring= 'neg_mean_squared_error') # cv=5 یعنی پنج بار این کار را انجام بده\n",
        "grid_search.fit(X_train, y_train)\n",
        "\n",
        "print('best parameter:' , grid_search.best_params_)\n",
        "print('best estimator:' , grid_search.best_estimator_)"
      ],
      "metadata": {
        "id": "pRsXlxxA5ZnE"
      },
      "execution_count": null,
      "outputs": []
    },
    {
      "cell_type": "code",
      "source": [
        "final_model = grid_search.best_estimator_\n",
        "# X_test = full_pipeline.transform(X2)\n",
        "final_pricitions = final_model.predict(X_test)\n",
        "final_mse = mean_squared_error(final_pricitions, y_test)    #(y_predict, y_test)\n",
        "final_rmse = np.sqrt(final_mse)\n",
        "print(final_rmse)"
      ],
      "metadata": {
        "colab": {
          "base_uri": "https://localhost:8080/"
        },
        "id": "U655jAEy6WRs",
        "outputId": "e1a37e6e-be20-4115-d9eb-04ddf7735642"
      },
      "execution_count": 40,
      "outputs": [
        {
          "output_type": "stream",
          "name": "stdout",
          "text": [
            "47627.74732730439\n"
          ]
        }
      ]
    }
  ]
}